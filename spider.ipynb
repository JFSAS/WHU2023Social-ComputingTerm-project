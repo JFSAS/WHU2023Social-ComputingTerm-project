{
 "cells": [
  {
   "cell_type": "code",
   "execution_count": 2,
   "metadata": {},
   "outputs": [
    {
     "name": "stdout",
     "output_type": "stream",
     "text": [
      "b'{\\n  \"args\": {}, \\n  \"data\": \"\", \\n  \"files\": {}, \\n  \"form\": {\\n    \"name\": \"jfs\"\\n  }, \\n  \"headers\": {\\n    \"Accept-Encoding\": \"identity\", \\n    \"Content-Length\": \"8\", \\n    \"Content-Type\": \"application/x-www-form-urlencoded\", \\n    \"Host\": \"www.httpbin.org\", \\n    \"User-Agent\": \"Python-urllib/3.12\", \\n    \"X-Amzn-Trace-Id\": \"Root=1-658c486f-1714a01157fffa4444cd64f9\"\\n  }, \\n  \"json\": null, \\n  \"origin\": \"162.19.250.112\", \\n  \"url\": \"https://www.httpbin.org/post\"\\n}\\n'\n"
     ]
    }
   ],
   "source": [
    "import urllib\n",
    "data=bytes(urllib.parse.urlencode({'name':'jfs'}),encoding='utf-8')\n",
    "response=urllib.request.urlopen('https://www.httpbin.org/post',data=data)\n",
    "print(response.read())\n"
   ]
  },
  {
   "cell_type": "code",
   "execution_count": 3,
   "metadata": {},
   "outputs": [
    {
     "name": "stdout",
     "output_type": "stream",
     "text": [
      "{\n",
      "  \"args\": {}, \n",
      "  \"data\": \"\", \n",
      "  \"files\": {}, \n",
      "  \"form\": {\n",
      "    \"name\": \"jfs\"\n",
      "  }, \n",
      "  \"headers\": {\n",
      "    \"Accept-Encoding\": \"identity\", \n",
      "    \"Content-Length\": \"8\", \n",
      "    \"Content-Type\": \"application/x-www-form-urlencoded\", \n",
      "    \"Host\": \"www.httpbin.org\", \n",
      "    \"User-Agent\": \"Mozilla/4.0(compatible;MSIE 5.5;Windows NT)\", \n",
      "    \"X-Amzn-Trace-Id\": \"Root=1-658c4872-4c0ace8d08e046d56a62c38f\"\n",
      "  }, \n",
      "  \"json\": null, \n",
      "  \"origin\": \"162.19.250.112\", \n",
      "  \"url\": \"https://www.httpbin.org/post\"\n",
      "}\n",
      "\n"
     ]
    }
   ],
   "source": [
    "from urllib import request,parse\n",
    "url = 'https://www.httpbin.org/post'\n",
    "headers = {\n",
    "    'User-Agent' : 'Mozilla/4.0(compatible;MSIE 5.5;Windows NT)',\n",
    "    'Host': 'www.httpbin.org'\n",
    "}\n",
    "dict = {'name': 'jfs'}\n",
    "data = bytes(parse.urlencode(dict),encoding = 'utf-8')\n",
    "req = request.Request(url=url,data=data,headers=headers,method='POST')\n",
    "response = request.urlopen(req)\n",
    "print(response.read().decode('utf-8'))\n"
   ]
  },
  {
   "cell_type": "code",
   "execution_count": 4,
   "metadata": {},
   "outputs": [
    {
     "name": "stdout",
     "output_type": "stream",
     "text": [
      "BD_NOT_HTTPS=1\n",
      "BIDUPSID=1273C560095C111F5C34EE75984C054E\n",
      "PSTM=1703692402\n",
      "BAIDUID=1273C560095C111F651F175A1FAE8B40:FG=1\n"
     ]
    }
   ],
   "source": [
    "import urllib.request\n",
    "import http.cookiejar\n",
    "cookie=http.cookiejar.CookieJar()\n",
    "handler = urllib.request.HTTPCookieProcessor(cookie)\n",
    "opener = urllib.request.build_opener(handler)\n",
    "response = opener.open('https://www.baidu.com')\n",
    "for item in cookie:\n",
    "    print(item.name+'='+item.value)"
   ]
  },
  {
   "cell_type": "markdown",
   "metadata": {},
   "source": [
    "### urlencode 构建get请求参数时改变参数"
   ]
  },
  {
   "cell_type": "code",
   "execution_count": 5,
   "metadata": {},
   "outputs": [
    {
     "name": "stdout",
     "output_type": "stream",
     "text": [
      "False\n",
      "User-agent: Baiduspider\n",
      "Disallow: /baidu\n",
      "Disallow: /s\n",
      "Disallow: /ulink\n",
      "Disallow: /link\n",
      "Disallow: /home/news/data/\n",
      "Disallow: /bh\n",
      "\n",
      "User-agent: Googlebot\n",
      "Disallow: /baidu\n",
      "Disallow: /s\n",
      "Disallow: /shifen/\n",
      "Disallow: /homepage/\n",
      "Disallow: /cpro\n",
      "Disallow: /ulink\n",
      "Disallow: /link\n",
      "Disallow: /home/news/data/\n",
      "Disallow: /bh\n",
      "\n",
      "User-agent: MSNBot\n",
      "Disallow: /baidu\n",
      "Disallow: /s\n",
      "Disallow: /shifen/\n",
      "Disallow: /homepage/\n",
      "Disallow: /cpro\n",
      "Disallow: /ulink\n",
      "Disallow: /link\n",
      "Disallow: /home/news/data/\n",
      "Disallow: /bh\n",
      "\n",
      "User-agent: Baiduspider-image\n",
      "Disallow: /baidu\n",
      "Disallow: /s\n",
      "Disallow: /shifen/\n",
      "Disallow: /homepage/\n",
      "Disallow: /cpro\n",
      "Disallow: /ulink\n",
      "Disallow: /link\n",
      "Disallow: /home/news/data/\n",
      "Disallow: /bh\n",
      "\n",
      "User-agent: YoudaoBot\n",
      "Disallow: /baidu\n",
      "Disallow: /s\n",
      "Disallow: /shifen/\n",
      "Disallow: /homepage/\n",
      "Disallow: /cpro\n",
      "Disallow: /ulink\n",
      "Disallow: /link\n",
      "Disallow: /home/news/data/\n",
      "Disallow: /bh\n",
      "\n",
      "User-agent: Sogou web spider\n",
      "Disallow: /baidu\n",
      "Disallow: /s\n",
      "Disallow: /shifen/\n",
      "Disallow: /homepage/\n",
      "Disallow: /cpro\n",
      "Disallow: /ulink\n",
      "Disallow: /link\n",
      "Disallow: /home/news/data/\n",
      "Disallow: /bh\n",
      "\n",
      "User-agent: Sogou inst spider\n",
      "Disallow: /baidu\n",
      "Disallow: /s\n",
      "Disallow: /shifen/\n",
      "Disallow: /homepage/\n",
      "Disallow: /cpro\n",
      "Disallow: /ulink\n",
      "Disallow: /link\n",
      "Disallow: /home/news/data/\n",
      "Disallow: /bh\n",
      "\n",
      "User-agent: Sogou spider2\n",
      "Disallow: /baidu\n",
      "Disallow: /s\n",
      "Disallow: /shifen/\n",
      "Disallow: /homepage/\n",
      "Disallow: /cpro\n",
      "Disallow: /ulink\n",
      "Disallow: /link\n",
      "Disallow: /home/news/data/\n",
      "Disallow: /bh\n",
      "\n",
      "User-agent: Sogou blog\n",
      "Disallow: /baidu\n",
      "Disallow: /s\n",
      "Disallow: /shifen/\n",
      "Disallow: /homepage/\n",
      "Disallow: /cpro\n",
      "Disallow: /ulink\n",
      "Disallow: /link\n",
      "Disallow: /home/news/data/\n",
      "Disallow: /bh\n",
      "\n",
      "User-agent: Sogou News Spider\n",
      "Disallow: /baidu\n",
      "Disallow: /s\n",
      "Disallow: /shifen/\n",
      "Disallow: /homepage/\n",
      "Disallow: /cpro\n",
      "Disallow: /ulink\n",
      "Disallow: /link\n",
      "Disallow: /home/news/data/\n",
      "Disallow: /bh\n",
      "\n",
      "User-agent: Sogou Orion spider\n",
      "Disallow: /baidu\n",
      "Disallow: /s\n",
      "Disallow: /shifen/\n",
      "Disallow: /homepage/\n",
      "Disallow: /cpro\n",
      "Disallow: /ulink\n",
      "Disallow: /link\n",
      "Disallow: /home/news/data/\n",
      "Disallow: /bh\n",
      "\n",
      "User-agent: ChinasoSpider\n",
      "Disallow: /baidu\n",
      "Disallow: /s\n",
      "Disallow: /shifen/\n",
      "Disallow: /homepage/\n",
      "Disallow: /cpro\n",
      "Disallow: /ulink\n",
      "Disallow: /link\n",
      "Disallow: /home/news/data/\n",
      "Disallow: /bh\n",
      "\n",
      "User-agent: Sosospider\n",
      "Disallow: /baidu\n",
      "Disallow: /s\n",
      "Disallow: /shifen/\n",
      "Disallow: /homepage/\n",
      "Disallow: /cpro\n",
      "Disallow: /ulink\n",
      "Disallow: /link\n",
      "Disallow: /home/news/data/\n",
      "Disallow: /bh\n",
      "\n",
      "User-agent: yisouspider\n",
      "Disallow: /baidu\n",
      "Disallow: /s\n",
      "Disallow: /shifen/\n",
      "Disallow: /homepage/\n",
      "Disallow: /cpro\n",
      "Disallow: /ulink\n",
      "Disallow: /link\n",
      "Disallow: /home/news/data/\n",
      "Disallow: /bh\n",
      "\n",
      "User-agent: EasouSpider\n",
      "Disallow: /baidu\n",
      "Disallow: /s\n",
      "Disallow: /shifen/\n",
      "Disallow: /homepage/\n",
      "Disallow: /cpro\n",
      "Disallow: /ulink\n",
      "Disallow: /link\n",
      "Disallow: /home/news/data/\n",
      "Disallow: /bh\n",
      "\n",
      "User-agent: *\n",
      "Disallow: /\n"
     ]
    }
   ],
   "source": [
    "from urllib.robotparser import RobotFileParser\n",
    "rp = RobotFileParser()\n",
    "rp.set_url('https://www.baidu.com/robots.txt')\n",
    "rp.read()\n",
    "print(rp.can_fetch('Googlebot','https://www.baidu.com/homepage/'))\n",
    "print(rp)"
   ]
  },
  {
   "cell_type": "markdown",
   "metadata": {},
   "source": [
    "# request库"
   ]
  },
  {
   "cell_type": "code",
   "execution_count": 6,
   "metadata": {},
   "outputs": [
    {
     "name": "stdout",
     "output_type": "stream",
     "text": [
      "{\n",
      "  \"args\": {}, \n",
      "  \"headers\": {\n",
      "    \"Accept\": \"*/*\", \n",
      "    \"Accept-Encoding\": \"gzip, deflate\", \n",
      "    \"Host\": \"www.httpbin.org\", \n",
      "    \"User-Agent\": \"python-requests/2.31.0\", \n",
      "    \"X-Amzn-Trace-Id\": \"Root=1-658c4874-13f4d80f45f317883d32542d\"\n",
      "  }, \n",
      "  \"origin\": \"162.19.250.112\", \n",
      "  \"url\": \"https://www.httpbin.org/get\"\n",
      "}\n",
      "\n"
     ]
    }
   ],
   "source": [
    "import requests\n",
    "r = requests.get('https://www.httpbin.org/get')\n",
    "print(r.text)"
   ]
  },
  {
   "cell_type": "code",
   "execution_count": 7,
   "metadata": {},
   "outputs": [
    {
     "ename": "KeyboardInterrupt",
     "evalue": "",
     "output_type": "error",
     "traceback": [
      "\u001b[0;31m---------------------------------------------------------------------------\u001b[0m",
      "\u001b[0;31mKeyboardInterrupt\u001b[0m                         Traceback (most recent call last)",
      "Cell \u001b[0;32mIn[7], line 3\u001b[0m\n\u001b[1;32m      1\u001b[0m \u001b[38;5;28;01mimport\u001b[39;00m \u001b[38;5;21;01mrequests\u001b[39;00m\n\u001b[1;32m      2\u001b[0m \u001b[38;5;28;01mimport\u001b[39;00m \u001b[38;5;21;01mre\u001b[39;00m\n\u001b[0;32m----> 3\u001b[0m r \u001b[38;5;241m=\u001b[39m \u001b[43mrequests\u001b[49m\u001b[38;5;241;43m.\u001b[39;49m\u001b[43mget\u001b[49m\u001b[43m(\u001b[49m\u001b[38;5;124;43m'\u001b[39;49m\u001b[38;5;124;43mhttps://ssr1.scrape.center/\u001b[39;49m\u001b[38;5;124;43m'\u001b[39;49m\u001b[43m)\u001b[49m\n\u001b[1;32m      4\u001b[0m pattern \u001b[38;5;241m=\u001b[39m re\u001b[38;5;241m.\u001b[39mcompile(\u001b[38;5;124m'\u001b[39m\u001b[38;5;124m<h2.*?>(.*?)</h2>\u001b[39m\u001b[38;5;124m'\u001b[39m,re\u001b[38;5;241m.\u001b[39mS)\n\u001b[1;32m      5\u001b[0m titles \u001b[38;5;241m=\u001b[39m re\u001b[38;5;241m.\u001b[39mfindall(pattern,r\u001b[38;5;241m.\u001b[39mtext)\n",
      "File \u001b[0;32m/Library/Frameworks/Python.framework/Versions/3.12/lib/python3.12/site-packages/requests/api.py:73\u001b[0m, in \u001b[0;36mget\u001b[0;34m(url, params, **kwargs)\u001b[0m\n\u001b[1;32m     62\u001b[0m \u001b[38;5;28;01mdef\u001b[39;00m \u001b[38;5;21mget\u001b[39m(url, params\u001b[38;5;241m=\u001b[39m\u001b[38;5;28;01mNone\u001b[39;00m, \u001b[38;5;241m*\u001b[39m\u001b[38;5;241m*\u001b[39mkwargs):\n\u001b[1;32m     63\u001b[0m \u001b[38;5;250m    \u001b[39m\u001b[38;5;124mr\u001b[39m\u001b[38;5;124;03m\"\"\"Sends a GET request.\u001b[39;00m\n\u001b[1;32m     64\u001b[0m \n\u001b[1;32m     65\u001b[0m \u001b[38;5;124;03m    :param url: URL for the new :class:`Request` object.\u001b[39;00m\n\u001b[0;32m   (...)\u001b[0m\n\u001b[1;32m     70\u001b[0m \u001b[38;5;124;03m    :rtype: requests.Response\u001b[39;00m\n\u001b[1;32m     71\u001b[0m \u001b[38;5;124;03m    \"\"\"\u001b[39;00m\n\u001b[0;32m---> 73\u001b[0m     \u001b[38;5;28;01mreturn\u001b[39;00m \u001b[43mrequest\u001b[49m\u001b[43m(\u001b[49m\u001b[38;5;124;43m\"\u001b[39;49m\u001b[38;5;124;43mget\u001b[39;49m\u001b[38;5;124;43m\"\u001b[39;49m\u001b[43m,\u001b[49m\u001b[43m \u001b[49m\u001b[43murl\u001b[49m\u001b[43m,\u001b[49m\u001b[43m \u001b[49m\u001b[43mparams\u001b[49m\u001b[38;5;241;43m=\u001b[39;49m\u001b[43mparams\u001b[49m\u001b[43m,\u001b[49m\u001b[43m \u001b[49m\u001b[38;5;241;43m*\u001b[39;49m\u001b[38;5;241;43m*\u001b[39;49m\u001b[43mkwargs\u001b[49m\u001b[43m)\u001b[49m\n",
      "File \u001b[0;32m/Library/Frameworks/Python.framework/Versions/3.12/lib/python3.12/site-packages/requests/api.py:59\u001b[0m, in \u001b[0;36mrequest\u001b[0;34m(method, url, **kwargs)\u001b[0m\n\u001b[1;32m     55\u001b[0m \u001b[38;5;66;03m# By using the 'with' statement we are sure the session is closed, thus we\u001b[39;00m\n\u001b[1;32m     56\u001b[0m \u001b[38;5;66;03m# avoid leaving sockets open which can trigger a ResourceWarning in some\u001b[39;00m\n\u001b[1;32m     57\u001b[0m \u001b[38;5;66;03m# cases, and look like a memory leak in others.\u001b[39;00m\n\u001b[1;32m     58\u001b[0m \u001b[38;5;28;01mwith\u001b[39;00m sessions\u001b[38;5;241m.\u001b[39mSession() \u001b[38;5;28;01mas\u001b[39;00m session:\n\u001b[0;32m---> 59\u001b[0m     \u001b[38;5;28;01mreturn\u001b[39;00m \u001b[43msession\u001b[49m\u001b[38;5;241;43m.\u001b[39;49m\u001b[43mrequest\u001b[49m\u001b[43m(\u001b[49m\u001b[43mmethod\u001b[49m\u001b[38;5;241;43m=\u001b[39;49m\u001b[43mmethod\u001b[49m\u001b[43m,\u001b[49m\u001b[43m \u001b[49m\u001b[43murl\u001b[49m\u001b[38;5;241;43m=\u001b[39;49m\u001b[43murl\u001b[49m\u001b[43m,\u001b[49m\u001b[43m \u001b[49m\u001b[38;5;241;43m*\u001b[39;49m\u001b[38;5;241;43m*\u001b[39;49m\u001b[43mkwargs\u001b[49m\u001b[43m)\u001b[49m\n",
      "File \u001b[0;32m/Library/Frameworks/Python.framework/Versions/3.12/lib/python3.12/site-packages/requests/sessions.py:579\u001b[0m, in \u001b[0;36mSession.request\u001b[0;34m(self, method, url, params, data, headers, cookies, files, auth, timeout, allow_redirects, proxies, hooks, stream, verify, cert, json)\u001b[0m\n\u001b[1;32m    575\u001b[0m prep \u001b[38;5;241m=\u001b[39m \u001b[38;5;28mself\u001b[39m\u001b[38;5;241m.\u001b[39mprepare_request(req)\n\u001b[1;32m    577\u001b[0m proxies \u001b[38;5;241m=\u001b[39m proxies \u001b[38;5;129;01mor\u001b[39;00m {}\n\u001b[0;32m--> 579\u001b[0m settings \u001b[38;5;241m=\u001b[39m \u001b[38;5;28;43mself\u001b[39;49m\u001b[38;5;241;43m.\u001b[39;49m\u001b[43mmerge_environment_settings\u001b[49m\u001b[43m(\u001b[49m\n\u001b[1;32m    580\u001b[0m \u001b[43m    \u001b[49m\u001b[43mprep\u001b[49m\u001b[38;5;241;43m.\u001b[39;49m\u001b[43murl\u001b[49m\u001b[43m,\u001b[49m\u001b[43m \u001b[49m\u001b[43mproxies\u001b[49m\u001b[43m,\u001b[49m\u001b[43m \u001b[49m\u001b[43mstream\u001b[49m\u001b[43m,\u001b[49m\u001b[43m \u001b[49m\u001b[43mverify\u001b[49m\u001b[43m,\u001b[49m\u001b[43m \u001b[49m\u001b[43mcert\u001b[49m\n\u001b[1;32m    581\u001b[0m \u001b[43m\u001b[49m\u001b[43m)\u001b[49m\n\u001b[1;32m    583\u001b[0m \u001b[38;5;66;03m# Send the request.\u001b[39;00m\n\u001b[1;32m    584\u001b[0m send_kwargs \u001b[38;5;241m=\u001b[39m {\n\u001b[1;32m    585\u001b[0m     \u001b[38;5;124m\"\u001b[39m\u001b[38;5;124mtimeout\u001b[39m\u001b[38;5;124m\"\u001b[39m: timeout,\n\u001b[1;32m    586\u001b[0m     \u001b[38;5;124m\"\u001b[39m\u001b[38;5;124mallow_redirects\u001b[39m\u001b[38;5;124m\"\u001b[39m: allow_redirects,\n\u001b[1;32m    587\u001b[0m }\n",
      "File \u001b[0;32m/Library/Frameworks/Python.framework/Versions/3.12/lib/python3.12/site-packages/requests/sessions.py:761\u001b[0m, in \u001b[0;36mSession.merge_environment_settings\u001b[0;34m(self, url, proxies, stream, verify, cert)\u001b[0m\n\u001b[1;32m    758\u001b[0m \u001b[38;5;28;01mif\u001b[39;00m \u001b[38;5;28mself\u001b[39m\u001b[38;5;241m.\u001b[39mtrust_env:\n\u001b[1;32m    759\u001b[0m     \u001b[38;5;66;03m# Set environment's proxies.\u001b[39;00m\n\u001b[1;32m    760\u001b[0m     no_proxy \u001b[38;5;241m=\u001b[39m proxies\u001b[38;5;241m.\u001b[39mget(\u001b[38;5;124m\"\u001b[39m\u001b[38;5;124mno_proxy\u001b[39m\u001b[38;5;124m\"\u001b[39m) \u001b[38;5;28;01mif\u001b[39;00m proxies \u001b[38;5;129;01mis\u001b[39;00m \u001b[38;5;129;01mnot\u001b[39;00m \u001b[38;5;28;01mNone\u001b[39;00m \u001b[38;5;28;01melse\u001b[39;00m \u001b[38;5;28;01mNone\u001b[39;00m\n\u001b[0;32m--> 761\u001b[0m     env_proxies \u001b[38;5;241m=\u001b[39m \u001b[43mget_environ_proxies\u001b[49m\u001b[43m(\u001b[49m\u001b[43murl\u001b[49m\u001b[43m,\u001b[49m\u001b[43m \u001b[49m\u001b[43mno_proxy\u001b[49m\u001b[38;5;241;43m=\u001b[39;49m\u001b[43mno_proxy\u001b[49m\u001b[43m)\u001b[49m\n\u001b[1;32m    762\u001b[0m     \u001b[38;5;28;01mfor\u001b[39;00m (k, v) \u001b[38;5;129;01min\u001b[39;00m env_proxies\u001b[38;5;241m.\u001b[39mitems():\n\u001b[1;32m    763\u001b[0m         proxies\u001b[38;5;241m.\u001b[39msetdefault(k, v)\n",
      "File \u001b[0;32m/Library/Frameworks/Python.framework/Versions/3.12/lib/python3.12/site-packages/requests/utils.py:830\u001b[0m, in \u001b[0;36mget_environ_proxies\u001b[0;34m(url, no_proxy)\u001b[0m\n\u001b[1;32m    824\u001b[0m \u001b[38;5;28;01mdef\u001b[39;00m \u001b[38;5;21mget_environ_proxies\u001b[39m(url, no_proxy\u001b[38;5;241m=\u001b[39m\u001b[38;5;28;01mNone\u001b[39;00m):\n\u001b[1;32m    825\u001b[0m \u001b[38;5;250m    \u001b[39m\u001b[38;5;124;03m\"\"\"\u001b[39;00m\n\u001b[1;32m    826\u001b[0m \u001b[38;5;124;03m    Return a dict of environment proxies.\u001b[39;00m\n\u001b[1;32m    827\u001b[0m \n\u001b[1;32m    828\u001b[0m \u001b[38;5;124;03m    :rtype: dict\u001b[39;00m\n\u001b[1;32m    829\u001b[0m \u001b[38;5;124;03m    \"\"\"\u001b[39;00m\n\u001b[0;32m--> 830\u001b[0m     \u001b[38;5;28;01mif\u001b[39;00m \u001b[43mshould_bypass_proxies\u001b[49m\u001b[43m(\u001b[49m\u001b[43murl\u001b[49m\u001b[43m,\u001b[49m\u001b[43m \u001b[49m\u001b[43mno_proxy\u001b[49m\u001b[38;5;241;43m=\u001b[39;49m\u001b[43mno_proxy\u001b[49m\u001b[43m)\u001b[49m:\n\u001b[1;32m    831\u001b[0m         \u001b[38;5;28;01mreturn\u001b[39;00m {}\n\u001b[1;32m    832\u001b[0m     \u001b[38;5;28;01melse\u001b[39;00m:\n",
      "File \u001b[0;32m/Library/Frameworks/Python.framework/Versions/3.12/lib/python3.12/site-packages/requests/utils.py:814\u001b[0m, in \u001b[0;36mshould_bypass_proxies\u001b[0;34m(url, no_proxy)\u001b[0m\n\u001b[1;32m    811\u001b[0m \u001b[38;5;28;01mwith\u001b[39;00m set_environ(\u001b[38;5;124m\"\u001b[39m\u001b[38;5;124mno_proxy\u001b[39m\u001b[38;5;124m\"\u001b[39m, no_proxy_arg):\n\u001b[1;32m    812\u001b[0m     \u001b[38;5;66;03m# parsed.hostname can be `None` in cases such as a file URI.\u001b[39;00m\n\u001b[1;32m    813\u001b[0m     \u001b[38;5;28;01mtry\u001b[39;00m:\n\u001b[0;32m--> 814\u001b[0m         bypass \u001b[38;5;241m=\u001b[39m \u001b[43mproxy_bypass\u001b[49m\u001b[43m(\u001b[49m\u001b[43mparsed\u001b[49m\u001b[38;5;241;43m.\u001b[39;49m\u001b[43mhostname\u001b[49m\u001b[43m)\u001b[49m\n\u001b[1;32m    815\u001b[0m     \u001b[38;5;28;01mexcept\u001b[39;00m (\u001b[38;5;167;01mTypeError\u001b[39;00m, socket\u001b[38;5;241m.\u001b[39mgaierror):\n\u001b[1;32m    816\u001b[0m         bypass \u001b[38;5;241m=\u001b[39m \u001b[38;5;28;01mFalse\u001b[39;00m\n",
      "File \u001b[0;32m/Library/Frameworks/Python.framework/Versions/3.12/lib/python3.12/urllib/request.py:2672\u001b[0m, in \u001b[0;36mproxy_bypass\u001b[0;34m(host)\u001b[0m\n\u001b[1;32m   2670\u001b[0m     \u001b[38;5;28;01mreturn\u001b[39;00m proxy_bypass_environment(host, proxies)\n\u001b[1;32m   2671\u001b[0m \u001b[38;5;28;01melse\u001b[39;00m:\n\u001b[0;32m-> 2672\u001b[0m     \u001b[38;5;28;01mreturn\u001b[39;00m \u001b[43mproxy_bypass_macosx_sysconf\u001b[49m\u001b[43m(\u001b[49m\u001b[43mhost\u001b[49m\u001b[43m)\u001b[49m\n",
      "File \u001b[0;32m/Library/Frameworks/Python.framework/Versions/3.12/lib/python3.12/urllib/request.py:2649\u001b[0m, in \u001b[0;36mproxy_bypass_macosx_sysconf\u001b[0;34m(host)\u001b[0m\n\u001b[1;32m   2647\u001b[0m \u001b[38;5;28;01mdef\u001b[39;00m \u001b[38;5;21mproxy_bypass_macosx_sysconf\u001b[39m(host):\n\u001b[1;32m   2648\u001b[0m     proxy_settings \u001b[38;5;241m=\u001b[39m _get_proxy_settings()\n\u001b[0;32m-> 2649\u001b[0m     \u001b[38;5;28;01mreturn\u001b[39;00m \u001b[43m_proxy_bypass_macosx_sysconf\u001b[49m\u001b[43m(\u001b[49m\u001b[43mhost\u001b[49m\u001b[43m,\u001b[49m\u001b[43m \u001b[49m\u001b[43mproxy_settings\u001b[49m\u001b[43m)\u001b[49m\n",
      "File \u001b[0;32m/Library/Frameworks/Python.framework/Versions/3.12/lib/python3.12/urllib/request.py:2617\u001b[0m, in \u001b[0;36m_proxy_bypass_macosx_sysconf\u001b[0;34m(host, proxy_settings)\u001b[0m\n\u001b[1;32m   2615\u001b[0m \u001b[38;5;28;01mif\u001b[39;00m hostIP \u001b[38;5;129;01mis\u001b[39;00m \u001b[38;5;28;01mNone\u001b[39;00m:\n\u001b[1;32m   2616\u001b[0m     \u001b[38;5;28;01mtry\u001b[39;00m:\n\u001b[0;32m-> 2617\u001b[0m         hostIP \u001b[38;5;241m=\u001b[39m \u001b[43msocket\u001b[49m\u001b[38;5;241;43m.\u001b[39;49m\u001b[43mgethostbyname\u001b[49m\u001b[43m(\u001b[49m\u001b[43mhostonly\u001b[49m\u001b[43m)\u001b[49m\n\u001b[1;32m   2618\u001b[0m         hostIP \u001b[38;5;241m=\u001b[39m ip2num(hostIP)\n\u001b[1;32m   2619\u001b[0m     \u001b[38;5;28;01mexcept\u001b[39;00m \u001b[38;5;167;01mOSError\u001b[39;00m:\n",
      "\u001b[0;31mKeyboardInterrupt\u001b[0m: "
     ]
    }
   ],
   "source": [
    "import requests\n",
    "import re\n",
    "r = requests.get('https://ssr1.scrape.center/')\n",
    "pattern = re.compile('<h2.*?>(.*?)</h2>',re.S)\n",
    "titles = re.findall(pattern,r.text)\n",
    "print(titles)"
   ]
  },
  {
   "cell_type": "code",
   "execution_count": null,
   "metadata": {},
   "outputs": [
    {
     "name": "stdout",
     "output_type": "stream",
     "text": [
      "<class 'str'>\n",
      "<class 'bytes'>\n",
      "<Response [200]>\n"
     ]
    }
   ],
   "source": [
    "import requests\n",
    "r = requests.get('https://scrape.center/favicon.ico')\n",
    "with open('favicon.ico','wb') as f :\n",
    "    f.write(r.content)\n",
    "print(type(r.text))\n",
    "print(type(r.content))\n",
    "print(r)"
   ]
  },
  {
   "cell_type": "markdown",
   "metadata": {},
   "source": [
    "相应包含相应头,响应体,状态码,cookie等.响应体可以为json,二进制文件,html等各种形式"
   ]
  },
  {
   "cell_type": "code",
   "execution_count": null,
   "metadata": {},
   "outputs": [
    {
     "name": "stdout",
     "output_type": "stream",
     "text": [
      "<re.Match object; span=(0, 5), match='Hello'>\n",
      "<class 're.Match'>\n",
      "ab2c\n"
     ]
    }
   ],
   "source": [
    "import re\n",
    "content = 'Hello'\n",
    "result = re.search(r'He.*?o',content)\n",
    "print(result)\n",
    "print(type(result))\n",
    "string='ab%dc'\n",
    "string=string%2\n",
    "print(string)"
   ]
  },
  {
   "cell_type": "code",
   "execution_count": 44,
   "metadata": {},
   "outputs": [
    {
     "name": "stdout",
     "output_type": "stream",
     "text": [
      "剧情烂中烂画面中规中矩BGMyyds新海诚拿这种片子糊弄人的吗？杠就是你对，反正没有被任何感动到，男女主的感情来的莫名其妙，结尾才描述了下亲情相关，对于玲芽母亲零刻画好吧，这样就没有任何感动。\n",
      "0.9999999988873516\n",
      "0.7112462006079026\n"
     ]
    }
   ],
   "source": [
    "import snownlp\n",
    "from snownlp import SnowNLP\n",
    "text = u\"剧情烂中烂!画面中规中矩!BGMyyds!新海诚拿这种片子糊弄人的吗？杠就是你对，反正没有被任何感动到，男女主的感情来的莫名其妙，结尾才描述了下亲情相关，对于玲芽母亲零刻画好吧，这样就没有任何感动。\".replace('!','')\n",
    "text_ = '好看!!!!!'.replace('!','')\n",
    "s = SnowNLP(text)\n",
    "print(text)\n",
    "print(s.sentiments)\n",
    "print(SnowNLP(text_).sentiments)\n"
   ]
  },
  {
   "cell_type": "markdown",
   "metadata": {},
   "source": [
    "发现感叹好会对模型产生干扰"
   ]
  },
  {
   "cell_type": "code",
   "execution_count": 52,
   "metadata": {},
   "outputs": [
    {
     "name": "stdout",
     "output_type": "stream",
     "text": [
      "我爱编程\n"
     ]
    }
   ],
   "source": [
    "import jieba\n",
    "\n",
    "sentence = \"我爱编程\"\n",
    "words = jieba.cut(sentence, cut_all=False)\n",
    "print(''.join(words))"
   ]
  },
  {
   "cell_type": "code",
   "execution_count": null,
   "metadata": {},
   "outputs": [],
   "source": [
    "import jieba\n",
    "string = '我爱编程'\n",
    "seg_list = jieba.cut(string, cut_all=False)"
   ]
  },
  {
   "cell_type": "code",
   "execution_count": 56,
   "metadata": {},
   "outputs": [
    {
     "name": "stdout",
     "output_type": "stream",
     "text": [
      "Series([], Name: count, dtype: int64)\n"
     ]
    }
   ],
   "source": [
    "import pandas as pd\n",
    "\n",
    "# 读取CSV文件\n",
    "df = pd.read_csv('data/data_short_emotion_snownlp.csv')\n",
    "\n",
    "# 计算每个uid的出现次数\n",
    "·\n",
    "\n",
    "# 选取出现次数大于等于2的uid\n",
    "uid_counts = uid_counts[uid_counts >= 2]\n",
    "print(uid_counts)"
   ]
  }
 ],
 "metadata": {
  "kernelspec": {
   "display_name": "Python 3",
   "language": "python",
   "name": "python3"
  },
  "language_info": {
   "codemirror_mode": {
    "name": "ipython",
    "version": 3
   },
   "file_extension": ".py",
   "mimetype": "text/x-python",
   "name": "python",
   "nbconvert_exporter": "python",
   "pygments_lexer": "ipython3",
   "version": "3.12.1"
  }
 },
 "nbformat": 4,
 "nbformat_minor": 2
}
